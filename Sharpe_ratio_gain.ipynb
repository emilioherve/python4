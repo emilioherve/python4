{
 "cells": [
  {
   "cell_type": "code",
   "execution_count": 2,
   "id": "4dd4b81c",
   "metadata": {},
   "outputs": [
    {
     "name": "stdout",
     "output_type": "stream",
     "text": [
      "Requirement already satisfied: dask in c:\\users\\emile ndoumbe\\anaconda3\\lib\\site-packages (2021.4.0)\n",
      "Requirement already satisfied: fsspec>=0.6.0 in c:\\users\\emile ndoumbe\\anaconda3\\lib\\site-packages (from dask) (0.9.0)\n",
      "Requirement already satisfied: pyyaml in c:\\users\\emile ndoumbe\\anaconda3\\lib\\site-packages (from dask) (5.4.1)\n",
      "Requirement already satisfied: cloudpickle>=1.1.1 in c:\\users\\emile ndoumbe\\anaconda3\\lib\\site-packages (from dask) (1.6.0)\n",
      "Requirement already satisfied: partd>=0.3.10 in c:\\users\\emile ndoumbe\\anaconda3\\lib\\site-packages (from dask) (1.2.0)\n",
      "Requirement already satisfied: toolz>=0.8.2 in c:\\users\\emile ndoumbe\\anaconda3\\lib\\site-packages (from dask) (0.11.1)\n",
      "Requirement already satisfied: locket in c:\\users\\emile ndoumbe\\anaconda3\\lib\\site-packages\\locket-0.2.1-py3.8.egg (from partd>=0.3.10->dask) (0.2.1)\n",
      "Requirement already satisfied: numpy in c:\\users\\emile ndoumbe\\anaconda3\\lib\\site-packages (1.19.5)\n",
      "Requirement already satisfied: pandas in c:\\users\\emile ndoumbe\\anaconda3\\lib\\site-packages (1.3.4)\n",
      "Requirement already satisfied: python-dateutil>=2.7.3 in c:\\users\\emile ndoumbe\\anaconda3\\lib\\site-packages (from pandas) (2.8.1)\n",
      "Requirement already satisfied: pytz>=2017.3 in c:\\users\\emile ndoumbe\\anaconda3\\lib\\site-packages (from pandas) (2021.1)\n",
      "Requirement already satisfied: numpy>=1.17.3 in c:\\users\\emile ndoumbe\\anaconda3\\lib\\site-packages (from pandas) (1.19.5)\n",
      "Requirement already satisfied: six>=1.5 in c:\\users\\emile ndoumbe\\anaconda3\\lib\\site-packages (from python-dateutil>=2.7.3->pandas) (1.15.0)\n"
     ]
    }
   ],
   "source": [
    "!pip install dask\n",
    "!pip install numpy\n",
    "!pip install pandas\n",
    "\n",
    "import dask.dataframe as dd\n",
    "import glob\n",
    "import pandas as pd\n",
    "import numpy as np\n",
    "import matplotlib.pyplot as plt\n",
    "from sklearn import metrics\n",
    "from timeit import default_timer as timer\n",
    "import warnings\n",
    "from pandas import plotting\n",
    "warnings.filterwarnings(\"ignore\")"
   ]
  },
  {
   "cell_type": "code",
   "execution_count": 3,
   "id": "13a34527",
   "metadata": {},
   "outputs": [],
   "source": [
    "import math"
   ]
  },
  {
   "cell_type": "markdown",
   "id": "fa44d88b",
   "metadata": {},
   "source": [
    "# File of OoR_sq results"
   ]
  },
  {
   "cell_type": "code",
   "execution_count": 6,
   "id": "25202591",
   "metadata": {},
   "outputs": [],
   "source": [
    "file=pd.read_csv(r'C:/Users/Emile Ndoumbe/Dropbox/Oo_R_sq.csv')"
   ]
  },
  {
   "cell_type": "markdown",
   "id": "4ecd0f02",
   "metadata": {},
   "source": [
    "# Sharpe_ratio_gain of sDOC model"
   ]
  },
  {
   "cell_type": "code",
   "execution_count": 15,
   "id": "cca8c5a6",
   "metadata": {},
   "outputs": [],
   "source": [
    "# Use the path\n",
    "\n",
    "path1 = r'C:/Users/Emile Ndoumbe/Dropbox/output_forecasting/sDOC_result'                     \n",
    "all_files1 = glob.glob(path1 + \"/*.csv\")"
   ]
  },
  {
   "cell_type": "code",
   "execution_count": 16,
   "id": "abd26f8a",
   "metadata": {},
   "outputs": [],
   "source": []
  },
  {
   "cell_type": "code",
   "execution_count": 5,
   "id": "2c3f9fe6",
   "metadata": {},
   "outputs": [],
   "source": [
    "sharpe_ratio_gain1=[]\n",
    "for i in range(63):\n",
    "    fil=pd.read_csv(all_files1[i])\n",
    "    sharpe=[]\n",
    "    for j in range(fil.shape[0]):\n",
    "        SR_0=(fil.iloc[j,5]**2)/fil.iloc[j,3]\n",
    "        sharpe.append(SR_0)\n",
    "    sharpe_1=np.mean(sharpe)\n",
    "    sharpe_2=(sharpe_1+file.iloc[i,3])/(1-file.iloc[i,3])\n",
    "    SR_1=math.sqrt(sharpe_2)- math.sqrt(sharpe_1)\n",
    "    \n",
    "    sharpe_ratio_gain1.append(SR_1)\n",
    "\n"
   ]
  },
  {
   "cell_type": "code",
   "execution_count": null,
   "id": "23f796af",
   "metadata": {},
   "outputs": [],
   "source": []
  },
  {
   "cell_type": "markdown",
   "id": "fa49bfac",
   "metadata": {},
   "source": [
    "# Sharpe_ratio_gain of PC model"
   ]
  },
  {
   "cell_type": "code",
   "execution_count": 17,
   "id": "be3c3526",
   "metadata": {},
   "outputs": [],
   "source": [
    "path2 = r'C:/Users/Emile Ndoumbe/Dropbox/output_forecasting/resultspcs'                     \n",
    "all_files2 = glob.glob(path2 + \"/*.csv\")\n",
    "    "
   ]
  },
  {
   "cell_type": "code",
   "execution_count": null,
   "id": "1c2925d5",
   "metadata": {},
   "outputs": [],
   "source": [
    "sharpe_ratio_gain2=[]\n",
    "for i in range(63):\n",
    "    fil=pd.read_csv(all_files2[i])\n",
    "    sharpe=[]\n",
    "    for j in range(fil.shape[0]):\n",
    "        SR_0=(fil.iloc[j,5]**2)/fil.iloc[j,3]\n",
    "        sharpe.append(SR_0)\n",
    "    sharpe_1=np.mean(sharpe)\n",
    "    sharpe_2=(sharpe_1+file.iloc[i,2])/(1-file.iloc[i,2])\n",
    "    SR_1=math.sqrt(sharpe_2)- math.sqrt(sharpe_1) \n",
    "    \n",
    "    sharpe_ratio_gain2.append(SR_1)"
   ]
  },
  {
   "cell_type": "code",
   "execution_count": null,
   "id": "774f6bb8",
   "metadata": {},
   "outputs": [],
   "source": []
  },
  {
   "cell_type": "markdown",
   "id": "ea02b570",
   "metadata": {},
   "source": [
    "# Sharpe_ratio_gain of random forest model"
   ]
  },
  {
   "cell_type": "code",
   "execution_count": null,
   "id": "1de1c432",
   "metadata": {},
   "outputs": [],
   "source": [
    "path3 = r'C:/Users/Emile Ndoumbe/Dropbox/output_forecasting/resultrandomF'                     \n",
    "all_files3 = glob.glob(path3 + \"/*.csv\")"
   ]
  },
  {
   "cell_type": "code",
   "execution_count": null,
   "id": "96da1143",
   "metadata": {},
   "outputs": [],
   "source": [
    "sharpe_ratio_gain3=[]\n",
    "for i in range(63):\n",
    "    fil=pd.read_csv(all_files3[i])\n",
    "    sharpe=[]\n",
    "    for j in range(fil.shape[0]):\n",
    "        SR_0=(fil.iloc[j,5]**2)/fil.iloc[j,3]\n",
    "        sharpe.append(SR_0)\n",
    "    sharpe_1=np.mean(sharpe)\n",
    "    sharpe_2=(sharpe_1+file.iloc[i,0])/(1-file.iloc[i,0])\n",
    "    SR_1=math.sqrt(sharpe_2)- math.sqrt(sharpe_1) \n",
    "    \n",
    "    sharpe_ratio_gain3.append(SR_1)"
   ]
  },
  {
   "cell_type": "code",
   "execution_count": null,
   "id": "ba72c2e3",
   "metadata": {},
   "outputs": [],
   "source": []
  },
  {
   "cell_type": "markdown",
   "id": "34c2818f",
   "metadata": {},
   "source": [
    "# Sharpe_ratio_gain of xgboost with cv model"
   ]
  },
  {
   "cell_type": "code",
   "execution_count": 20,
   "id": "9fd388d2",
   "metadata": {},
   "outputs": [],
   "source": [
    "path4 = r'C:/Users/Emile Ndoumbe/Dropbox/output_forecasting/resultxgboostcv'                     \n",
    "all_files4 = glob.glob(path4 + \"/*.csv\")"
   ]
  },
  {
   "cell_type": "code",
   "execution_count": 21,
   "id": "531b55b1",
   "metadata": {},
   "outputs": [],
   "source": [
    "sharpe_ratio_gain4=[]\n",
    "for i in range(63):\n",
    "    fil=pd.read_csv(all_files4[i])\n",
    "    sharpe=[]\n",
    "    for j in range(fil.shape[0]):\n",
    "        SR_0=(fil.iloc[j,5]**2)/fil.iloc[j,3]\n",
    "        sharpe.append(SR_0)\n",
    "    sharpe_1=np.mean(sharpe)\n",
    "    sharpe_2=(sharpe_1+file.iloc[i,1])/(1-file.iloc[i,1])\n",
    "    SR_1=math.sqrt(sharpe_2)- math.sqrt(sharpe_1) \n",
    "    \n",
    "    sharpe_ratio_gain4.append(SR_1)"
   ]
  },
  {
   "cell_type": "code",
   "execution_count": 76,
   "id": "f0e4e265",
   "metadata": {},
   "outputs": [],
   "source": []
  },
  {
   "cell_type": "markdown",
   "id": "b4e0d208",
   "metadata": {},
   "source": [
    "# Sharpe_ratio_gain of neural network model"
   ]
  },
  {
   "cell_type": "code",
   "execution_count": null,
   "id": "34df3ce5",
   "metadata": {},
   "outputs": [],
   "source": [
    "path5 = r'C:/Users/Emile Ndoumbe/Dropbox/output_forecasting/resultNeural'                     \n",
    "all_files5 = glob.glob(path5 + \"/*.csv\")"
   ]
  },
  {
   "cell_type": "code",
   "execution_count": 25,
   "id": "daa2e84e",
   "metadata": {},
   "outputs": [],
   "source": [
    "sharpe_ratio_gain5_11=[]\n",
    "for i in range(12):\n",
    "    fil=pd.read_csv(all_files5[i])\n",
    "    sharpe=[]\n",
    "    for j in range(fil.shape[0]):\n",
    "        SR_0=(fil.iloc[j,5]**2)/fil.iloc[j,3]\n",
    "        sharpe.append(SR_0)\n",
    "    sharpe_1=np.mean(sharpe)\n",
    "    sharpe_2=(sharpe_1+file.iloc[i,4])/(1-file.iloc[i,4])\n",
    "    SR_1=math.sqrt(sharpe_2)- math.sqrt(sharpe_1) \n",
    "    \n",
    "    sharpe_ratio_gain5_11.append(SR_1)"
   ]
  },
  {
   "cell_type": "code",
   "execution_count": 7,
   "id": "120d62c2",
   "metadata": {},
   "outputs": [],
   "source": []
  },
  {
   "cell_type": "code",
   "execution_count": 85,
   "id": "5503edbe",
   "metadata": {},
   "outputs": [],
   "source": [
    "sharpe_ratio_gain5_62=[]\n",
    "for i in range(12,62):\n",
    "    fil=pd.read_csv(all_files5[i])\n",
    "    sharpe=[]\n",
    "    for j in range(fil.shape[0]):\n",
    "        SR_0=(fil.iloc[j,5]**2)/fil.iloc[j,3]\n",
    "        sharpe.append(SR_0)\n",
    "    sharpe_1=np.mean(sharpe)\n",
    "    sharpe_2=(sharpe_1+file.iloc[i+1,4])/(1-file.iloc[i+1,4])\n",
    "    SR_1=math.sqrt(sharpe_2)- math.sqrt(sharpe_1) \n",
    "    \n",
    "    sharpe_ratio_gain5_62.append(SR_1)\n"
   ]
  },
  {
   "cell_type": "code",
   "execution_count": null,
   "id": "55f4fa3f",
   "metadata": {},
   "outputs": [],
   "source": []
  },
  {
   "cell_type": "markdown",
   "id": "a23860aa",
   "metadata": {},
   "source": [
    "# Diagram of evaluation criteria\n"
   ]
  },
  {
   "cell_type": "code",
   "execution_count": 118,
   "id": "3727eb39",
   "metadata": {},
   "outputs": [
    {
     "data": {
      "image/png": "[encoded data removed]",
      "text/plain": [
       "<Figure size 432x288 with 1 Axes>"
      ]
     },
     "metadata": {
      "needs_background": "light"
     },
     "output_type": "display_data"
    }
   ],
   "source": [
    "Categories = [\"RF\",\"xgboost_cv\",\"PCR\",\"sDOC\",\"NN\"] # 5 methods\n",
    "\n",
    "Sous_categories = [\"ind_46\",\"ind_47\",\"ind_48\",\"ind_49\",\"ind_50\"] \n",
    "#Sous_categories = [\"ind_61\",\"ind_62\",\"ind_63\"] \n",
    "# Valeurs pour chaque catégories\n",
    "\n",
    "y1 = [1.81,2.65,-5.41,0.31,-2.72]; y2 = [11.36,-7.71,3.25,-2.22,-4.61] ; y3 = [-0.34,-0.11,0.60,-0.42,-0.16];y4=[-1.87,1.74,-6.11,0.20,3.63];y5=[1.66,0.42,-1.16,1.34,1.31]\n",
    "\n",
    "from math import * \n",
    "\n",
    "nb_categories = len(Categories)\n",
    "\n",
    "largeur_barre = floor(1*5/nb_categories)/10\n",
    "\n",
    "x1 = range(len(y1))\n",
    "\n",
    "x2 = [i + largeur_barre for i in x1]\n",
    "\n",
    "x3 = [i + 2*largeur_barre for i in x1]\n",
    "\n",
    "x4 = [i + 3*largeur_barre for i in x1]\n",
    "\n",
    "x5 = [i + 4*largeur_barre for i in x1]\n",
    "\n",
    "\n",
    "\n",
    "plt.bar(x1, y1, width = largeur_barre, color = 'red',\n",
    "\n",
    "           edgecolor = 'black', linewidth = 2)\n",
    "\n",
    "plt.bar(x2, y2, width = largeur_barre, color = 'blue',\n",
    "\n",
    "           edgecolor = 'black', linewidth = 2)\n",
    "\n",
    "plt.bar(x3, y3, width = largeur_barre, color = 'green',\n",
    "\n",
    "           edgecolor = 'black', linewidth = 2)\n",
    "\n",
    "plt.bar(x4, y4, width = largeur_barre, color = 'yellow',\n",
    "\n",
    "           edgecolor = 'black', linewidth = 2)\n",
    "\n",
    "plt.bar(x5, y5, width = largeur_barre, color = 'pink',\n",
    "\n",
    "           edgecolor = 'black', linewidth = 2)\n",
    "\n",
    "plt.xticks([r + largeur_barre / nb_categories for r in range(len(y1))],\n",
    "\n",
    "              Sous_categories)\n",
    "\n",
    "plt.legend(Categories,loc=1)\n",
    "\n",
    "plt.savefig('graphst10.pdf')\n",
    "\n",
    "#plt.show()\n",
    " "
   ]
  },
  {
   "cell_type": "code",
   "execution_count": null,
   "id": "21f4eaaf",
   "metadata": {},
   "outputs": [],
   "source": []
  },
  {
   "cell_type": "code",
   "execution_count": null,
   "id": "3e82c379",
   "metadata": {},
   "outputs": [],
   "source": []
  },
  {
   "cell_type": "code",
   "execution_count": 49,
   "id": "3aa829af",
   "metadata": {},
   "outputs": [],
   "source": []
  },
  {
   "cell_type": "code",
   "execution_count": null,
   "id": "e54f17c7",
   "metadata": {},
   "outputs": [],
   "source": [
    "\n"
   ]
  },
  {
   "cell_type": "code",
   "execution_count": 53,
   "id": "f623cffb",
   "metadata": {},
   "outputs": [],
   "source": []
  },
  {
   "cell_type": "code",
   "execution_count": null,
   "id": "a421368d",
   "metadata": {},
   "outputs": [],
   "source": []
  },
  {
   "cell_type": "code",
   "execution_count": 58,
   "id": "69f25cc7",
   "metadata": {},
   "outputs": [],
   "source": []
  },
  {
   "cell_type": "code",
   "execution_count": null,
   "id": "6a12f6b7",
   "metadata": {},
   "outputs": [],
   "source": []
  },
  {
   "cell_type": "code",
   "execution_count": null,
   "id": "e2a4a231",
   "metadata": {},
   "outputs": [],
   "source": []
  },
  {
   "cell_type": "code",
   "execution_count": null,
   "id": "c31a22de",
   "metadata": {},
   "outputs": [],
   "source": []
  }
 ],
 "metadata": {
  "kernelspec": {
   "display_name": "Python 3",
   "language": "python",
   "name": "python3"
  },
  "language_info": {
   "codemirror_mode": {
    "name": "ipython",
    "version": 3
   },
   "file_extension": ".py",
   "mimetype": "text/x-python",
   "name": "python",
   "nbconvert_exporter": "python",
   "pygments_lexer": "ipython3",
   "version": "3.8.8"
  }
 },
 "nbformat": 4,
 "nbformat_minor": 5
}
